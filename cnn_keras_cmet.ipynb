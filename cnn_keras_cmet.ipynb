{
  "cells": [
    {
      "cell_type": "code",
      "execution_count": null,
      "metadata": {
        "id": "b2bjUSGBzc_L"
      },
      "outputs": [],
      "source": [
        "from google.colab import drive\n",
        "drive.mount('/content/drive')"
      ]
    },
    {
      "cell_type": "code",
      "execution_count": null,
      "metadata": {
        "id": "4EwlDk2I1yqg"
      },
      "outputs": [],
      "source": [
        "!pip install comet_ml"
      ]
    },
    {
      "cell_type": "code",
      "execution_count": null,
      "metadata": {
        "id": "TAWgcTWx1ii4"
      },
      "outputs": [],
      "source": [
        "# import comet_ml at the top of your file\n",
        "from comet_ml import Experiment\n",
        "import comet_ml\n",
        "import logging\n",
        "# Create an experiment with your api key\n",
        "experiment = Experiment(\n",
        "    project_name=\"digit-recognizer\",\n",
        "    workspace=\"wodenwang820118\",\n",
        "    api_key=\"Your API key\")\n",
        ")"
      ]
    },
    {
      "cell_type": "code",
      "execution_count": null,
      "metadata": {
        "id": "jNTLO3jNA-mV"
      },
      "outputs": [],
      "source": [
        "logging.basicConfig(level=logging.INFO)\n",
        "LOGGER = logging.getLogger(\"comet_ml\")"
      ]
    },
    {
      "cell_type": "code",
      "execution_count": null,
      "metadata": {
        "id": "v0tpKqimzbL3"
      },
      "outputs": [],
      "source": [
        "# tensorflow 2.7 \n",
        "from tensorflow import keras\n",
        "from tensorflow.keras.layers import Input,Flatten,Dense,Dropout,BatchNormalization,Conv2D,MaxPooling2D\n",
        "from tensorflow.keras.models import Model, Sequential\n",
        "from tensorflow.keras import layers\n",
        "from tensorflow.keras import activations"
      ]
    },
    {
      "cell_type": "code",
      "execution_count": null,
      "metadata": {
        "id": "8cxk8sOGzbL5"
      },
      "outputs": [],
      "source": [
        "import pandas as pd\n",
        "from keras.utils.np_utils import to_categorical\n",
        "import seaborn as sns\n",
        "import matplotlib.pyplot as plt\n",
        "from tensorflow import keras\n",
        "\n",
        "%matplotlib inline\n",
        "sns.set_style('whitegrid')"
      ]
    },
    {
      "cell_type": "code",
      "execution_count": null,
      "metadata": {
        "id": "4ZCesLpKzbL6"
      },
      "outputs": [],
      "source": [
        "df_train=pd.read_csv('/content/drive/MyDrive/Mnist_CNN/train.csv')\n",
        "# df_train.head(1)"
      ]
    },
    {
      "cell_type": "code",
      "execution_count": null,
      "metadata": {
        "id": "iqTgaxunzbL7"
      },
      "outputs": [],
      "source": [
        "df_train.shape"
      ]
    },
    {
      "cell_type": "code",
      "execution_count": null,
      "metadata": {
        "id": "wblSOAJhzbL7"
      },
      "outputs": [],
      "source": [
        "X = df_train.drop('label', axis=1)\n",
        "y = df_train['label']"
      ]
    },
    {
      "cell_type": "code",
      "execution_count": null,
      "metadata": {
        "id": "JsyFIk7mzbL8"
      },
      "outputs": [],
      "source": [
        "from sklearn.model_selection import train_test_split\n",
        "X_train, X_test, y_train, y_test = train_test_split(X, y, test_size=0.33, random_state=42)"
      ]
    },
    {
      "cell_type": "code",
      "execution_count": null,
      "metadata": {
        "id": "hfqpklnD0rlF"
      },
      "outputs": [],
      "source": [
        "# give the input shape one more dimension to fit the CNN\n",
        "X_train = X_train.values.reshape(X_train.shape[0], 28, 28, 1)\n",
        "X_test = X_test.values.reshape(X_test.shape[0], 28, 28, 1)\n",
        "y_train = y_train.values.reshape(y_train.shape[0], 1)\n",
        "y_test = y_test.values.reshape(y_test.shape[0], 1)"
      ]
    },
    {
      "cell_type": "code",
      "execution_count": null,
      "metadata": {
        "id": "pRhqRj7G0w0L"
      },
      "outputs": [],
      "source": [
        "# make sure the division gets the float\n",
        "X_train = X_train.astype('float32')\n",
        "X_test =  X_test.astype('float32')\n",
        "\n",
        "# normalize the data in to RGB range\n",
        "X_train /= 255\n",
        "X_test /= 255"
      ]
    },
    {
      "cell_type": "code",
      "execution_count": null,
      "metadata": {
        "id": "jz0-8_b10y5x"
      },
      "outputs": [],
      "source": [
        "print(X_train.shape)\n",
        "print(\"Max value in X_train:\", X_train.max())\n",
        "print(\"Min value in X_train:\", X_train.min())"
      ]
    },
    {
      "cell_type": "code",
      "execution_count": null,
      "metadata": {
        "id": "-qYfpAMwzbL-"
      },
      "outputs": [],
      "source": [
        "y_train = to_categorical(y_train, num_classes=10)\n",
        "y_test = to_categorical(y_test, num_classes=10)"
      ]
    },
    {
      "cell_type": "code",
      "execution_count": null,
      "metadata": {
        "id": "CQI5lxMV01RJ"
      },
      "outputs": [],
      "source": [
        "print(\"Shape of y_train:\", y_train.shape)\n",
        "print(\"One value of y_train:\", y_train[2])"
      ]
    },
    {
      "cell_type": "code",
      "execution_count": null,
      "metadata": {
        "id": "vAY95qOvzbL-"
      },
      "outputs": [],
      "source": [
        "from tensorflow.keras.callbacks import EarlyStopping\n",
        "early_stop = EarlyStopping(monitor='val_loss',patience=10,restore_best_weights=True)\n",
        "reduce_lr = keras.callbacks.ReduceLROnPlateau(monitor='val_loss', factor=0.7, patience=3, verbose=1, mode='auto', min_delta=0.00001, cooldown=0, min_lr=0.0001)"
      ]
    },
    {
      "cell_type": "code",
      "execution_count": null,
      "metadata": {
        "id": "lmd9zi-N2Pp1"
      },
      "outputs": [],
      "source": [
        "class DigitClassifier:\n",
        "    def __init__(self,X_train,X_test,y_train,y_test,early_stop,reduce_lr,experiment):\n",
        "        self.X_train = X_train\n",
        "        self.X_test = X_test\n",
        "        self.y_train = y_train\n",
        "        self.y_test = y_test\n",
        "        self.reduce_lr = reduce_lr\n",
        "        self.early_stop = early_stop\n",
        "        self.experiment = experiment\n",
        "    \n",
        "    def build_model(self):\n",
        "        # Build the model\n",
        "        model = Sequential()\n",
        "        # padding='same' -> fill in the empty padding while convolve\n",
        "        # kernel_size=(3,3) -> the image pixels (28,28) will extract (3,3) at a time and multiply the random numbers of filter at the same size\n",
        "        # filters reference: https://www.youtube.com/watch?v=cNBBNAxC8l4&ab_channel=deeplizard\n",
        "        # reference: https://www.youtube.com/watch?v=YRhxdVk_sIs&ab_channel=deeplizard\n",
        "        model.add(\n",
        "            Conv2D(\n",
        "              filters=self.experiment.get_parameter(\"first_layer_filters\"),\n",
        "              kernel_size=(3,3),\n",
        "              input_shape=(X_train.shape[1], X_train.shape[2], X_train.shape[3]),\n",
        "              padding='same'\n",
        "          )\n",
        "        )\n",
        "        # https://www.youtube.com/watch?v=ZjM_XQa5s6s&ab_channel=deeplizard\n",
        "        model.add(MaxPooling2D(pool_size=(2,2), strides=2, padding='valid'))\n",
        "\n",
        "        model.add(\n",
        "            Conv2D(\n",
        "              filters=self.experiment.get_parameter(\"second_layer_filters\"),\n",
        "              kernel_size=(4,4),\n",
        "              padding='same'\n",
        "          )\n",
        "        )\n",
        "        model.add(MaxPooling2D(pool_size=(2,2), strides=2, padding='valid'))\n",
        "        model.add(Flatten())\n",
        "\n",
        "        model.add(\n",
        "            Dense(\n",
        "                units=self.experiment.get_parameter(\"second_layer_units\"),\n",
        "                )\n",
        "            )\n",
        "        model.add(layers.Activation(activations.elu))\n",
        "        model.add(Dropout(self.experiment.get_parameter(\"second_layer_dropout_rate\")))\n",
        "        \n",
        "        model.add(Dense(10,activation='softmax'))\n",
        "        optimizer = keras.optimizers.Adam(0.001)\n",
        "        model.compile(\n",
        "            optimizer=optimizer,\n",
        "            loss='categorical_crossentropy',\n",
        "            metrics=['accuracy']\n",
        "        )\n",
        "        return model\n",
        "    \n",
        "    def train_model(self):\n",
        "        # Train the model\n",
        "        model = self.build_model()\n",
        "        model.fit(\n",
        "            self.X_train,\n",
        "            self.y_train,\n",
        "            batch_size=self.experiment.get_parameter(\"batch_size\"),\n",
        "            epochs=self.experiment.get_parameter(\"epochs\"),\n",
        "            validation_data=(self.X_test,self.y_test),\n",
        "            callbacks=[self.early_stop,self.reduce_lr]\n",
        "        )\n",
        "        return model\n",
        "    \n",
        "    def evaluate_model(self):\n",
        "        # Evaluate the model\n",
        "        model = self.train_model()\n",
        "        score = model.evaluate(self.X_test,self.y_test)\n",
        "        LOGGER.info(f\"{ score }\")\n",
        "    \n",
        "    def grid_search(self, config_dict):\n",
        "        opt = comet_ml.Optimizer(config_dict, api_key=\"Your API key\")\n",
        "        for self.experiment in opt.get_experiments(project_name=\"digit-recognizer\"):\n",
        "\n",
        "            self.build_model()\n",
        "            self.train_model()\n",
        "            self.evaluate_model()\n",
        "            self.experiment.end()"
      ]
    },
    {
      "cell_type": "code",
      "execution_count": null,
      "metadata": {
        "id": "ScIpiZ652ZnV"
      },
      "outputs": [],
      "source": [
        "classifier = DigitClassifier(X_train,X_test,y_train,y_test,early_stop,reduce_lr,experiment)\n",
        "# mu is the mean number of units, sigma is the standard deviation\n",
        "classifier.grid_search({\n",
        "    \"algorithm\": \"bayes\",\n",
        "    \"name\": \"Optimize Music Classification Network\",\n",
        "    \"spec\": {\"maxCombo\": 10, \"objective\": \"minimize\", \"metric\": \"loss\"},\n",
        "    \"parameters\": {\n",
        "        \"first_layer_filters\":{\"type\": \"discrete\", \"values\": [16,32,48,64]},\n",
        "        \"second_layer_filters\":{\"type\": \"discrete\", \"values\": [16,32,48,64]},\n",
        "        \"second_layer_units\": {\"type\": \"discrete\", \"values\": [300,400,450,500,550,600,650,700,750,800]},\n",
        "        \"second_layer_dropout_rate\": {\"type\": \"discrete\", \"values\": [0.1,0.2,0.3,0.4,0.5,0.6]},\n",
        "        \"batch_size\": {\"type\": \"discrete\", \"values\": [32,64]},\n",
        "        \"epochs\": {\"type\": \"discrete\", \"values\": [150]},\n",
        "    },\n",
        "    \"name\": \"digit-recognizer\",\n",
        "    \"trials\": 1,\n",
        "})"
      ]
    },
    {
      "cell_type": "code",
      "execution_count": null,
      "metadata": {
        "id": "aF9WVEWGzbL-"
      },
      "outputs": [],
      "source": [
        "# Build the model\n",
        "model = Sequential()\n",
        "model.add(\n",
        "    Conv2D(\n",
        "      filters=64,\n",
        "      kernel_size=(3,3),\n",
        "      input_shape=(X_train.shape[1], X_train.shape[2], X_train.shape[3]),\n",
        "      padding='same'\n",
        "  )\n",
        ")\n",
        "model.add(MaxPooling2D(pool_size=(2,2), strides=2, padding='valid'))\n",
        "# model.add(layers.Activation(activations.elu))\n",
        "\n",
        "model.add(\n",
        "    Conv2D(\n",
        "      filters=32,\n",
        "      kernel_size=(4,4),\n",
        "      padding='same'\n",
        "  )\n",
        ")\n",
        "model.add(MaxPooling2D(pool_size=(2,2), strides=2, padding='valid'))\n",
        "# model.add(layers.Activation(activations.elu))\n",
        "model.add(Flatten())\n",
        "\n",
        "model.add(\n",
        "    Dense(\n",
        "        units=650,\n",
        "        )\n",
        "    )\n",
        "model.add(layers.Activation(activations.elu))\n",
        "model.add(Dropout(0.4))\n",
        "\n",
        "model.add(Dense(10,activation='softmax'))\n",
        "optimizer = keras.optimizers.Adam(0.001)\n",
        "model.compile(\n",
        "    optimizer=optimizer,\n",
        "    loss='categorical_crossentropy',\n",
        "    metrics=['accuracy']\n",
        ")"
      ]
    },
    {
      "cell_type": "code",
      "execution_count": null,
      "metadata": {
        "id": "baWA5ZuQzbL_"
      },
      "outputs": [],
      "source": [
        "model.fit(X_train,y_train,batch_size=64,epochs=200,validation_data=(X_test,y_test),callbacks=[early_stop,reduce_lr])"
      ]
    },
    {
      "cell_type": "code",
      "execution_count": null,
      "metadata": {
        "id": "GF3OY5b_kVyt"
      },
      "outputs": [],
      "source": [
        "model.evaluate(X_test,y_test)"
      ]
    },
    {
      "cell_type": "code",
      "execution_count": null,
      "metadata": {
        "id": "l5-Vw_QRWZRX"
      },
      "outputs": [],
      "source": [
        "df_test = pd.read_csv('/content/drive/MyDrive/Mnist_CNN/test.csv')\n",
        "test_data = df_test.values.reshape(df_test.shape[0], 28, 28, 1)"
      ]
    },
    {
      "cell_type": "code",
      "execution_count": null,
      "metadata": {
        "id": "e33CDjigW2XZ"
      },
      "outputs": [],
      "source": [
        "# make sure the division gets the float\n",
        "test_data = test_data.astype('float32')\n",
        "\n",
        "# normalize the data in to RGB range\n",
        "test_data /= 255"
      ]
    },
    {
      "cell_type": "code",
      "execution_count": null,
      "metadata": {
        "id": "AAJiWF6ihaS8"
      },
      "outputs": [],
      "source": [
        "import numpy as np"
      ]
    },
    {
      "cell_type": "code",
      "execution_count": null,
      "metadata": {
        "id": "VTp6gkgxXFHI"
      },
      "outputs": [],
      "source": [
        "predictions = model.predict(test_data)\n",
        "labels = np.argmax(predictions, axis=1)"
      ]
    },
    {
      "cell_type": "code",
      "execution_count": null,
      "metadata": {
        "id": "-dP1q3IIXbl6"
      },
      "outputs": [],
      "source": [
        "df_result = pd.DataFrame(np.arange(1,len(labels)+1), columns=['ImageId'])\n",
        "df_result['label']=labels\n",
        "df_result.to_csv('/content/drive/MyDrive/Mnist_CNN/submission_cnn_comet_keras.csv', index=False)"
      ]
    }
  ],
  "metadata": {
    "accelerator": "GPU",
    "colab": {
      "collapsed_sections": [],
      "name": "cnn_keras_cmet.ipynb",
      "private_outputs": true,
      "provenance": []
    },
    "interpreter": {
      "hash": "984944ce4eefbed249e2a3501e72ee0777f56e66d10a0a53283275062444400f"
    },
    "kernelspec": {
      "display_name": "Python 3.9.6 64-bit",
      "language": "python",
      "name": "python3"
    },
    "language_info": {
      "codemirror_mode": {
        "name": "ipython",
        "version": 3
      },
      "file_extension": ".py",
      "mimetype": "text/x-python",
      "name": "python",
      "nbconvert_exporter": "python",
      "pygments_lexer": "ipython3",
      "version": "3.9.6"
    },
    "orig_nbformat": 4
  },
  "nbformat": 4,
  "nbformat_minor": 0
}
